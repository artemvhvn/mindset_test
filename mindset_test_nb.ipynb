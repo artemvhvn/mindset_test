{
 "cells": [
  {
   "cell_type": "markdown",
   "id": "2141b94b",
   "metadata": {},
   "source": [
    "# Тестовое задание для mindset"
   ]
  },
  {
   "cell_type": "code",
   "execution_count": 4,
   "id": "6ae76528",
   "metadata": {},
   "outputs": [],
   "source": [
    "import pandas as pd\n",
    "import json\n",
    "\n",
    "from neo4j import GraphDatabase"
   ]
  },
  {
   "cell_type": "code",
   "execution_count": 5,
   "id": "1b449e42",
   "metadata": {},
   "outputs": [],
   "source": [
    "try:\n",
    "    data = pd.read_csv('data_test.csv', sep=';')\n",
    "except:\n",
    "    data = pd.read_csv('https://raw.githubusercontent.com/artemvhvn/mindset_test/main/data_test.csv', sep=';')"
   ]
  },
  {
   "cell_type": "code",
   "execution_count": 6,
   "id": "f44e1bb4",
   "metadata": {
    "scrolled": true
   },
   "outputs": [
    {
     "data": {
      "text/html": [
       "<div>\n",
       "<style scoped>\n",
       "    .dataframe tbody tr th:only-of-type {\n",
       "        vertical-align: middle;\n",
       "    }\n",
       "\n",
       "    .dataframe tbody tr th {\n",
       "        vertical-align: top;\n",
       "    }\n",
       "\n",
       "    .dataframe thead th {\n",
       "        text-align: right;\n",
       "    }\n",
       "</style>\n",
       "<table border=\"1\" class=\"dataframe\">\n",
       "  <thead>\n",
       "    <tr style=\"text-align: right;\">\n",
       "      <th></th>\n",
       "      <th>id события</th>\n",
       "      <th>ФИО участника события 1</th>\n",
       "      <th>ФИО участника события 2</th>\n",
       "    </tr>\n",
       "  </thead>\n",
       "  <tbody>\n",
       "    <tr>\n",
       "      <th>0</th>\n",
       "      <td>189</td>\n",
       "      <td>Галчевская Карина Владимировна</td>\n",
       "      <td>Белоновская Анастасия Семеновна</td>\n",
       "    </tr>\n",
       "    <tr>\n",
       "      <th>1</th>\n",
       "      <td>206</td>\n",
       "      <td>Офицеров Олег Романович</td>\n",
       "      <td>Сапожник Борис Валерьевич</td>\n",
       "    </tr>\n",
       "    <tr>\n",
       "      <th>2</th>\n",
       "      <td>445</td>\n",
       "      <td>Жандарова Лариса Германовна</td>\n",
       "      <td>Чемодуров Дамир Русланович</td>\n",
       "    </tr>\n",
       "    <tr>\n",
       "      <th>3</th>\n",
       "      <td>503</td>\n",
       "      <td>Масимова Яна Дамировна</td>\n",
       "      <td>Мингажетдинов Рамиль Семенович</td>\n",
       "    </tr>\n",
       "    <tr>\n",
       "      <th>4</th>\n",
       "      <td>571</td>\n",
       "      <td>Мухтарова Алена Яковлевна</td>\n",
       "      <td>Щербатенко Ольга Робертовна</td>\n",
       "    </tr>\n",
       "  </tbody>\n",
       "</table>\n",
       "</div>"
      ],
      "text/plain": [
       "   id события         ФИО участника события 1          ФИО участника события 2\n",
       "0         189  Галчевская Карина Владимировна  Белоновская Анастасия Семеновна\n",
       "1         206         Офицеров Олег Романович        Сапожник Борис Валерьевич\n",
       "2         445     Жандарова Лариса Германовна       Чемодуров Дамир Русланович\n",
       "3         503          Масимова Яна Дамировна   Мингажетдинов Рамиль Семенович\n",
       "4         571       Мухтарова Алена Яковлевна      Щербатенко Ольга Робертовна"
      ]
     },
     "execution_count": 6,
     "metadata": {},
     "output_type": "execute_result"
    }
   ],
   "source": [
    "data.head()"
   ]
  },
  {
   "cell_type": "code",
   "execution_count": 7,
   "id": "b920f8b1",
   "metadata": {},
   "outputs": [],
   "source": [
    "# переименуем столбцы для удобной работы в jupyter notebook\n",
    "data.columns = ['event_id', 'name_of_event_participant_1', 'name_of_event_participant_2']"
   ]
  },
  {
   "cell_type": "code",
   "execution_count": 8,
   "id": "47dbfc5b",
   "metadata": {},
   "outputs": [],
   "source": [
    "# класс для подключения к neo4j\n",
    "class Neo4jConnection:\n",
    "    def __init__(self, uri, user, password):\n",
    "        self.driver = GraphDatabase.driver(uri, auth=(user, password))\n",
    "\n",
    "    def close(self):\n",
    "        if self.driver is not None:\n",
    "            self.driver.close()\n",
    "\n",
    "# Метод, который передает запрос в БД\n",
    "    def query(self, query, db=None):\n",
    "        assert self.driver is not None, \"Driver not initialized!\"\n",
    "        session = None\n",
    "        response = None\n",
    "        try:\n",
    "            session = self.driver.session(database=db) if db is not None else self.driver.session()\n",
    "            response = list(session.run(query))\n",
    "        except Exception as e:\n",
    "            print(\"Query failed:\", e)\n",
    "        finally:\n",
    "            if session is not None:\n",
    "                session.close()\n",
    "        return response"
   ]
  },
  {
   "cell_type": "code",
   "execution_count": 10,
   "id": "a6722c9c",
   "metadata": {},
   "outputs": [
    {
     "data": {
      "text/plain": [
       "[]"
      ]
     },
     "execution_count": 10,
     "metadata": {},
     "output_type": "execute_result"
    }
   ],
   "source": [
    "# подключение\n",
    "conn = Neo4jConnection(uri=\"bolt://localhost:7687\", user=\"artemvhvn\", password=\"12345678\")\n",
    "# создаем базу данных\n",
    "conn.query(\"CREATE OR REPLACE DATABASE testdb\")"
   ]
  },
  {
   "cell_type": "code",
   "execution_count": 11,
   "id": "d18af443",
   "metadata": {},
   "outputs": [
    {
     "data": {
      "text/plain": [
       "[]"
      ]
     },
     "execution_count": 11,
     "metadata": {},
     "output_type": "execute_result"
    }
   ],
   "source": [
    "# загружаем датасет в бд\n",
    "query_string = '''\n",
    "LOAD CSV WITH HEADERS FROM\n",
    "    'https://raw.githubusercontent.com/artemvhvn/mindset_test/main/data_test.csv'\n",
    "    AS line FIELDTERMINATOR ';'\n",
    "\n",
    "MERGE (name:name {name: line['ФИО участника события 1']})\n",
    "MERGE (id:event_id {event_id: line['id события']})\n",
    "\n",
    "MERGE (name)-[:IS_IN]->(id)\n",
    "\n",
    ";\n",
    "\n",
    "'''\n",
    "conn.query(query_string, db='testdb')"
   ]
  },
  {
   "cell_type": "markdown",
   "id": "9c41d92b",
   "metadata": {},
   "source": [
    "Создали узлы с ФИО участника и id события. Связь: ФИО - IS_IN -> id. Теперь добавим вторые ФИО участников с такой же связью."
   ]
  },
  {
   "cell_type": "code",
   "execution_count": 12,
   "id": "1cfe79fe",
   "metadata": {},
   "outputs": [
    {
     "data": {
      "text/plain": [
       "[]"
      ]
     },
     "execution_count": 12,
     "metadata": {},
     "output_type": "execute_result"
    }
   ],
   "source": [
    "query_string = '''\n",
    "LOAD CSV WITH HEADERS FROM\n",
    "'https://raw.githubusercontent.com/artemvhvn/mindset_test/main/data_test.csv'\n",
    "AS line FIELDTERMINATOR ';'\n",
    "\n",
    "MATCH (id:event_id {event_id: line['id события']})\n",
    "\n",
    "MERGE (name:name {name: line['ФИО участника события 2']})\n",
    "\n",
    "MERGE (name)-[:IS_IN]->(id)\n",
    "\n",
    ";\n",
    "\n",
    "'''\n",
    "conn.query(query_string, db='testdb')"
   ]
  },
  {
   "cell_type": "markdown",
   "id": "f63fd3d0",
   "metadata": {},
   "source": [
    "![graph](graph.png)"
   ]
  },
  {
   "cell_type": "code",
   "execution_count": 16,
   "id": "15179b34",
   "metadata": {
    "scrolled": true
   },
   "outputs": [
    {
     "data": {
      "text/plain": [
       "[<Record count(r)=10000>]"
      ]
     },
     "execution_count": 16,
     "metadata": {},
     "output_type": "execute_result"
    }
   ],
   "source": [
    "query_string = '''\n",
    "MATCH ()-[r]->()\n",
    "RETURN count(r)\n",
    "'''\n",
    "conn.query(query_string, db='testdb')\n"
   ]
  },
  {
   "cell_type": "markdown",
   "id": "5dd8a1a0",
   "metadata": {},
   "source": [
    "Всего 10000 связей"
   ]
  },
  {
   "cell_type": "code",
   "execution_count": 26,
   "id": "210ac363",
   "metadata": {},
   "outputs": [
    {
     "data": {
      "text/plain": [
       "[<Record count(n)=4985>]"
      ]
     },
     "execution_count": 26,
     "metadata": {},
     "output_type": "execute_result"
    }
   ],
   "source": [
    "query_string = '''\n",
    "MATCH (n:event_id)\n",
    "RETURN count(n)\n",
    "'''\n",
    "conn.query(query_string, db='testdb')\n"
   ]
  },
  {
   "cell_type": "markdown",
   "id": "4b6d1af8",
   "metadata": {},
   "source": [
    "Всего 4985 событий, т.к. в датасете есть дубликаты по id события, вероятно, это события, в которых учавствовало более двух человек одновременно."
   ]
  },
  {
   "cell_type": "code",
   "execution_count": 29,
   "id": "5c0f1f00",
   "metadata": {},
   "outputs": [
    {
     "data": {
      "text/plain": [
       "4985"
      ]
     },
     "execution_count": 29,
     "metadata": {},
     "output_type": "execute_result"
    }
   ],
   "source": [
    "data.event_id.nunique()"
   ]
  },
  {
   "cell_type": "code",
   "execution_count": 30,
   "id": "28a9b87e",
   "metadata": {},
   "outputs": [
    {
     "data": {
      "text/html": [
       "<div>\n",
       "<style scoped>\n",
       "    .dataframe tbody tr th:only-of-type {\n",
       "        vertical-align: middle;\n",
       "    }\n",
       "\n",
       "    .dataframe tbody tr th {\n",
       "        vertical-align: top;\n",
       "    }\n",
       "\n",
       "    .dataframe thead th {\n",
       "        text-align: right;\n",
       "    }\n",
       "</style>\n",
       "<table border=\"1\" class=\"dataframe\">\n",
       "  <thead>\n",
       "    <tr style=\"text-align: right;\">\n",
       "      <th></th>\n",
       "      <th>event_id</th>\n",
       "      <th>name_of_event_participant_1</th>\n",
       "      <th>name_of_event_participant_2</th>\n",
       "    </tr>\n",
       "  </thead>\n",
       "  <tbody>\n",
       "    <tr>\n",
       "      <th>367</th>\n",
       "      <td>70049</td>\n",
       "      <td>Федова Анжелика Вадимовна</td>\n",
       "      <td>Вальдовский Альберт Ефимович</td>\n",
       "    </tr>\n",
       "    <tr>\n",
       "      <th>487</th>\n",
       "      <td>92995</td>\n",
       "      <td>Кучеренко Ирина Ильинична</td>\n",
       "      <td>Болтик Григорий Максимович</td>\n",
       "    </tr>\n",
       "    <tr>\n",
       "      <th>598</th>\n",
       "      <td>117280</td>\n",
       "      <td>Уточкин Евгений Анатольевич</td>\n",
       "      <td>Каганович Лилия Петровна</td>\n",
       "    </tr>\n",
       "  </tbody>\n",
       "</table>\n",
       "</div>"
      ],
      "text/plain": [
       "     event_id  name_of_event_participant_1   name_of_event_participant_2\n",
       "367     70049    Федова Анжелика Вадимовна  Вальдовский Альберт Ефимович\n",
       "487     92995    Кучеренко Ирина Ильинична    Болтик Григорий Максимович\n",
       "598    117280  Уточкин Евгений Анатольевич      Каганович Лилия Петровна"
      ]
     },
     "execution_count": 30,
     "metadata": {},
     "output_type": "execute_result"
    }
   ],
   "source": [
    "data[data.event_id.duplicated()].head(3)"
   ]
  },
  {
   "cell_type": "code",
   "execution_count": 31,
   "id": "70bb51c9",
   "metadata": {
    "scrolled": true
   },
   "outputs": [
    {
     "data": {
      "text/plain": [
       "[<Record n=<Node element_id='4:ae6ca6a0-d01b-4755-abf2-ba63d8f52efc:747' labels=frozenset({'event_id'}) properties={'event_id': '70049'}>>,\n",
       " <Record n=<Node element_id='4:ae6ca6a0-d01b-4755-abf2-ba63d8f52efc:992' labels=frozenset({'event_id'}) properties={'event_id': '92995'}>>,\n",
       " <Record n=<Node element_id='4:ae6ca6a0-d01b-4755-abf2-ba63d8f52efc:1230' labels=frozenset({'event_id'}) properties={'event_id': '117280'}>>]"
      ]
     },
     "execution_count": 31,
     "metadata": {},
     "output_type": "execute_result"
    }
   ],
   "source": [
    "\n",
    "query_string = '''\n",
    "MATCH (n)\n",
    "WHERE n.event_id IN ['70049', '92995', '117280']\n",
    "RETURN n\n",
    "'''\n",
    "conn.query(query_string, db='testdb')\n"
   ]
  },
  {
   "cell_type": "markdown",
   "id": "cf2148d2",
   "metadata": {},
   "source": [
    "![bigevents](bigevents.png)"
   ]
  },
  {
   "cell_type": "code",
   "execution_count": 32,
   "id": "9736c96c",
   "metadata": {},
   "outputs": [
    {
     "data": {
      "text/plain": [
       "[<Record count(n)=9899>]"
      ]
     },
     "execution_count": 32,
     "metadata": {},
     "output_type": "execute_result"
    }
   ],
   "source": [
    "query_string = '''\n",
    "MATCH (n:name)\n",
    "RETURN count(n)\n",
    "'''\n",
    "conn.query(query_string, db='testdb')\n"
   ]
  },
  {
   "cell_type": "markdown",
   "id": "70c730b5",
   "metadata": {},
   "source": [
    "Всего получилось 9899 уникальных ФИО участников, т.к. некоторые учавствовали в нескольких событиях."
   ]
  },
  {
   "cell_type": "markdown",
   "id": "b677bc39",
   "metadata": {},
   "source": [
    "Посмотрим на 3 участников с наибольшим количеством событий"
   ]
  },
  {
   "cell_type": "code",
   "execution_count": 33,
   "id": "a86df0d7",
   "metadata": {
    "scrolled": true
   },
   "outputs": [
    {
     "data": {
      "text/plain": [
       "[<Record p=<Node element_id='4:ae6ca6a0-d01b-4755-abf2-ba63d8f52efc:349' labels=frozenset({'name'}) properties={'name': 'Ахромеева Алина Ивановна'}>>,\n",
       " <Record p=<Node element_id='4:ae6ca6a0-d01b-4755-abf2-ba63d8f52efc:597' labels=frozenset({'name'}) properties={'name': 'Башнина Антонина Глебовна'}>>,\n",
       " <Record p=<Node element_id='4:ae6ca6a0-d01b-4755-abf2-ba63d8f52efc:1638' labels=frozenset({'name'}) properties={'name': 'Медведева Дарья Алексеевна'}>>]"
      ]
     },
     "execution_count": 33,
     "metadata": {},
     "output_type": "execute_result"
    }
   ],
   "source": [
    "query_string = '''\n",
    "MATCH (p)\n",
    "CALL {\n",
    "  WITH p\n",
    "  MATCH (p)--(c)\n",
    "  RETURN count(c) AS numberOfConnections\n",
    "}\n",
    "RETURN p\n",
    "ORDER BY numberOfConnections DESC\n",
    "LIMIT 3\n",
    "'''\n",
    "conn.query(query_string, db='testdb')"
   ]
  },
  {
   "cell_type": "markdown",
   "id": "cfd148c3",
   "metadata": {},
   "source": [
    "![popnames](popnames.png)"
   ]
  },
  {
   "cell_type": "code",
   "execution_count": 34,
   "id": "f772ce0d",
   "metadata": {
    "scrolled": true
   },
   "outputs": [
    {
     "data": {
      "text/plain": [
       "[<Record p=<Node element_id='4:ae6ca6a0-d01b-4755-abf2-ba63d8f52efc:349' labels=frozenset({'name'}) properties={'name': 'Ахромеева Алина Ивановна'}> numberOfConnections=50>,\n",
       " <Record p=<Node element_id='4:ae6ca6a0-d01b-4755-abf2-ba63d8f52efc:597' labels=frozenset({'name'}) properties={'name': 'Башнина Антонина Глебовна'}> numberOfConnections=14>,\n",
       " <Record p=<Node element_id='4:ae6ca6a0-d01b-4755-abf2-ba63d8f52efc:1638' labels=frozenset({'name'}) properties={'name': 'Медведева Дарья Алексеевна'}> numberOfConnections=6>,\n",
       " <Record p=<Node element_id='4:ae6ca6a0-d01b-4755-abf2-ba63d8f52efc:1298' labels=frozenset({'name'}) properties={'name': 'Зимнухова Карина Даниловна'}> numberOfConnections=5>,\n",
       " <Record p=<Node element_id='4:ae6ca6a0-d01b-4755-abf2-ba63d8f52efc:3582' labels=frozenset({'name'}) properties={'name': 'Диомидов Игорь Ильдарович'}> numberOfConnections=5>]"
      ]
     },
     "execution_count": 34,
     "metadata": {},
     "output_type": "execute_result"
    }
   ],
   "source": [
    "query_string = '''\n",
    "MATCH (p)--(c)\n",
    "RETURN p, count(c) AS numberOfConnections\n",
    "ORDER BY numberOfConnections DESC\n",
    "LIMIT 5\n",
    "'''\n",
    "conn.query(query_string, db='testdb')"
   ]
  },
  {
   "cell_type": "markdown",
   "id": "67fd7404",
   "metadata": {},
   "source": [
    "![compl](cnames.png)"
   ]
  },
  {
   "cell_type": "markdown",
   "id": "f0675faa",
   "metadata": {},
   "source": [
    "Некоторые участники связаны со многими событиями. Если предположить, что наши события, это какие-то матчи в турнире, то можно сделать вывод о том, как они проходили по турнирной сетке. Человек, с наибольшим количеством событий, возможно, является победителем."
   ]
  },
  {
   "cell_type": "markdown",
   "id": "a0116523",
   "metadata": {},
   "source": [
    "### json"
   ]
  },
  {
   "cell_type": "markdown",
   "id": "bd612956",
   "metadata": {},
   "source": [
    "Вводим ФИО участника, получаем файл name_js.json"
   ]
  },
  {
   "cell_type": "code",
   "execution_count": 35,
   "id": "994cb8a4",
   "metadata": {},
   "outputs": [
    {
     "name": "stdout",
     "output_type": "stream",
     "text": [
      "Пафомова Кира Вадимовна\n"
     ]
    },
    {
     "data": {
      "text/plain": [
       "[<Record file='name_js.json' source='statement: cols(3)' format='json' nodes=6 relationships=3 properties=6 time=99 rows=12 batchSize=-1 batches=0 done=True data=None>]"
      ]
     },
     "execution_count": 35,
     "metadata": {},
     "output_type": "execute_result"
    }
   ],
   "source": [
    "fname = input()\n",
    "query_string = f'''\n",
    "CALL apoc.export.json.query(\n",
    "    \"MATCH (name)-[rel]-(secname) WHERE name.name = $name return name, rel, secname\",\n",
    "    \"name_js.json\",\n",
    "    {{params:{{name: '{fname}'}}}}\n",
    ")\n",
    "'''\n",
    "conn.query(query_string, db='testdb')"
   ]
  },
  {
   "cell_type": "code",
   "execution_count": 38,
   "id": "23f174a3",
   "metadata": {},
   "outputs": [
    {
     "data": {
      "text/plain": [
       "[{'name': {'type': 'node',\n",
       "   'id': '886',\n",
       "   'labels': ['name'],\n",
       "   'properties': {'name': 'Пафомова Кира Вадимовна'}},\n",
       "  'rel': {'type': 'relationship',\n",
       "   'id': '9797',\n",
       "   'label': 'IS_IN',\n",
       "   'start': {'id': '886',\n",
       "    'labels': ['name'],\n",
       "    'properties': {'name': 'Пафомова Кира Вадимовна'}},\n",
       "   'end': {'id': '9577',\n",
       "    'labels': ['event_id'],\n",
       "    'properties': {'event_id': '958318'}}},\n",
       "  'secname': {'type': 'node',\n",
       "   'id': '9577',\n",
       "   'labels': ['event_id'],\n",
       "   'properties': {'event_id': '958318'}}},\n",
       " {'name': {'type': 'node',\n",
       "   'id': '886',\n",
       "   'labels': ['name'],\n",
       "   'properties': {'name': 'Пафомова Кира Вадимовна'}},\n",
       "  'rel': {'type': 'relationship',\n",
       "   'id': '4169',\n",
       "   'label': 'IS_IN',\n",
       "   'start': {'id': '886',\n",
       "    'labels': ['name'],\n",
       "    'properties': {'name': 'Пафомова Кира Вадимовна'}},\n",
       "   'end': {'id': '8323',\n",
       "    'labels': ['event_id'],\n",
       "    'properties': {'event_id': '829652'}}},\n",
       "  'secname': {'type': 'node',\n",
       "   'id': '8323',\n",
       "   'labels': ['event_id'],\n",
       "   'properties': {'event_id': '829652'}}},\n",
       " {'name': {'type': 'node',\n",
       "   'id': '886',\n",
       "   'labels': ['name'],\n",
       "   'properties': {'name': 'Пафомова Кира Вадимовна'}},\n",
       "  'rel': {'type': 'relationship',\n",
       "   'id': '508',\n",
       "   'label': 'IS_IN',\n",
       "   'start': {'id': '886',\n",
       "    'labels': ['name'],\n",
       "    'properties': {'name': 'Пафомова Кира Вадимовна'}},\n",
       "   'end': {'id': '1013',\n",
       "    'labels': ['event_id'],\n",
       "    'properties': {'event_id': '99439'}}},\n",
       "  'secname': {'type': 'node',\n",
       "   'id': '1013',\n",
       "   'labels': ['event_id'],\n",
       "   'properties': {'event_id': '99439'}}}]"
      ]
     },
     "execution_count": 38,
     "metadata": {},
     "output_type": "execute_result"
    }
   ],
   "source": [
    "# считываем файл\n",
    "data_json = []\n",
    "path = '/Users/avhvn/Library/Application Support/Neo4j Desktop/Application/relate-data/dbmss/dbms-baa6809c-46bf-4fe1-9285-72e9b66450e5/import/'\n",
    "try:\n",
    "    for line in open(path + 'name_js.json', encoding='utf-8-sig'):\n",
    "        data_json.append(json.loads(line))\n",
    "except:\n",
    "    for line in open('name_js.json', encoding='utf-8-sig'):\n",
    "        data_json.append(json.loads(line))\n",
    "data_json"
   ]
  }
 ],
 "metadata": {
  "kernelspec": {
   "display_name": "Python 3 (ipykernel)",
   "language": "python",
   "name": "python3"
  },
  "language_info": {
   "codemirror_mode": {
    "name": "ipython",
    "version": 3
   },
   "file_extension": ".py",
   "mimetype": "text/x-python",
   "name": "python",
   "nbconvert_exporter": "python",
   "pygments_lexer": "ipython3",
   "version": "3.10.4"
  },
  "toc": {
   "base_numbering": 1,
   "nav_menu": {},
   "number_sections": true,
   "sideBar": true,
   "skip_h1_title": true,
   "title_cell": "Table of Contents",
   "title_sidebar": "Contents",
   "toc_cell": true,
   "toc_position": {
    "height": "calc(100% - 180px)",
    "left": "10px",
    "top": "150px",
    "width": "288px"
   },
   "toc_section_display": true,
   "toc_window_display": false
  }
 },
 "nbformat": 4,
 "nbformat_minor": 5
}
